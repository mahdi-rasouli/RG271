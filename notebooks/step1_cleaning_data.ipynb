{
 "cells": [
  {
   "cell_type": "markdown",
   "metadata": {},
   "source": [
    "# Clustering Social Media Data - Cleaning Data"
   ]
  },
  {
   "cell_type": "markdown",
   "metadata": {},
   "source": [
    "Importing libraries"
   ]
  },
  {
   "cell_type": "code",
   "execution_count": 9,
   "metadata": {},
   "outputs": [],
   "source": [
    "import numpy as np\n",
    "import pandas as pd\n",
    "import pickle\n",
    "from os import path as Path\n",
    "import datetime\n",
    "import re"
   ]
  },
  {
   "cell_type": "markdown",
   "metadata": {},
   "source": [
    "# Importing Data"
   ]
  },
  {
   "cell_type": "code",
   "execution_count": 4,
   "metadata": {},
   "outputs": [],
   "source": [
    "# input data dir\n",
    "s3_data_dir=\"s3://ds-rg271/data\""
   ]
  },
  {
   "cell_type": "code",
   "execution_count": 6,
   "metadata": {},
   "outputs": [
    {
     "name": "stdout",
     "output_type": "stream",
     "text": [
      "s3://ds-rg271/data/labelled/mebank_tweets_1_year_labelled.csv\n"
     ]
    }
   ],
   "source": [
    "#input data file\n",
    "input_data_uri = Path.join(s3_data_dir,\"labelled/mebank_tweets_1_year_labelled.csv\")\n",
    "print(input_data_uri)"
   ]
  },
  {
   "cell_type": "code",
   "execution_count": 7,
   "metadata": {},
   "outputs": [
    {
     "data": {
      "text/html": "<div>\n<style scoped>\n    .dataframe tbody tr th:only-of-type {\n        vertical-align: middle;\n    }\n\n    .dataframe tbody tr th {\n        vertical-align: top;\n    }\n\n    .dataframe thead th {\n        text-align: right;\n    }\n</style>\n<table border=\"1\" class=\"dataframe\">\n  <thead>\n    <tr style=\"text-align: right;\">\n      <th></th>\n      <th>Unnamed: 0</th>\n      <th>date</th>\n      <th>content</th>\n      <th>complaint</th>\n      <th>topic</th>\n      <th>content_type</th>\n      <th>user</th>\n      <th>url</th>\n    </tr>\n  </thead>\n  <tbody>\n    <tr>\n      <th>896</th>\n      <td>896</td>\n      <td>2020-09-21 02:30:03+00:00</td>\n      <td>ME Bank looks to e-signatures, digital loan pr...</td>\n      <td>0.0</td>\n      <td>NaN</td>\n      <td>twitter/mention</td>\n      <td>MrtgBusiness</td>\n      <td>https://twitter.com/MrtgBusiness/status/130786...</td>\n    </tr>\n  </tbody>\n</table>\n</div>",
      "text/plain": "     Unnamed: 0                       date  \\\n896         896  2020-09-21 02:30:03+00:00   \n\n                                               content  complaint topic  \\\n896  ME Bank looks to e-signatures, digital loan pr...        0.0   NaN   \n\n        content_type          user  \\\n896  twitter/mention  MrtgBusiness   \n\n                                                   url  \n896  https://twitter.com/MrtgBusiness/status/130786...  "
     },
     "execution_count": 7,
     "metadata": {},
     "output_type": "execute_result"
    }
   ],
   "source": [
    "input_data=pd.read_csv(input_data_uri)\n",
    "input_data.tail(1)"
   ]
  },
  {
   "cell_type": "markdown",
   "metadata": {},
   "source": []
  },
  {
   "cell_type": "markdown",
   "metadata": {},
   "source": [
    "# Cleaning Data"
   ]
  },
  {
   "cell_type": "code",
   "execution_count": 10,
   "metadata": {},
   "outputs": [],
   "source": [
    "# standardizing date-time format\n",
    "for i, date_str in enumerate(input_data['date']):\n",
    "\t#date_str=re.sub('\\+00:00', '', date_str)\n",
    "\t#input_data.loc[i,'date']=datetime.datetime.strptime(date_str,'%Y-%m-%d %H:%M:%S')\n",
    "\tinput_data.loc[i,'date']=datetime.datetime.strptime(date_str,\"%Y-%m-%dT%H:%M:%S.%fZ\")\n",
    "\n"
   ]
  },
  {
   "cell_type": "code",
   "execution_count": 11,
   "metadata": {},
   "outputs": [
    {
     "data": {
      "text/plain": "(897, 8)"
     },
     "execution_count": 11,
     "metadata": {},
     "output_type": "execute_result"
    }
   ],
   "source": [
    "# sorting data based on date\n",
    "input_data_sorted=input_data.sort_values(by=['date'],ignore_index=True).reset_index(drop=True)\n",
    "input_data_sorted.shape"
   ]
  },
  {
   "cell_type": "code",
   "execution_count": 15,
   "metadata": {},
   "outputs": [
    {
     "name": "stdout",
     "output_type": "stream",
     "text": [
      "(862, 8)\n"
     ]
    },
    {
     "data": {
      "text/html": "<div>\n<style scoped>\n    .dataframe tbody tr th:only-of-type {\n        vertical-align: middle;\n    }\n\n    .dataframe tbody tr th {\n        vertical-align: top;\n    }\n\n    .dataframe thead th {\n        text-align: right;\n    }\n</style>\n<table border=\"1\" class=\"dataframe\">\n  <thead>\n    <tr style=\"text-align: right;\">\n      <th></th>\n      <th>Unnamed: 0</th>\n      <th>date</th>\n      <th>content</th>\n      <th>complaint</th>\n      <th>topic</th>\n      <th>content_type</th>\n      <th>user</th>\n      <th>url</th>\n    </tr>\n  </thead>\n  <tbody>\n    <tr>\n      <th>861</th>\n      <td>573</td>\n      <td>2021-07-25 09:22:13</td>\n      <td>Making beautiful banking and helping Australi...</td>\n      <td>0.0</td>\n      <td>NaN</td>\n      <td>twitter/mention</td>\n      <td>sandybeech4</td>\n      <td>https://twitter.com/sandybeech4/status/1419226...</td>\n    </tr>\n  </tbody>\n</table>\n</div>",
      "text/plain": "     Unnamed: 0                 date  \\\n861         573  2021-07-25 09:22:13   \n\n                                               content  complaint topic  \\\n861   Making beautiful banking and helping Australi...        0.0   NaN   \n\n        content_type         user  \\\n861  twitter/mention  sandybeech4   \n\n                                                   url  \n861  https://twitter.com/sandybeech4/status/1419226...  "
     },
     "execution_count": 15,
     "metadata": {},
     "output_type": "execute_result"
    }
   ],
   "source": [
    "# removing 0.5 and -1 labels \n",
    "input_data_01=input_data_sorted[input_data_sorted.complaint.isin([0, 1])].reset_index(drop=True)\n",
    "print(input_data_01.shape)\n",
    "input_data_01.tail(1)"
   ]
  },
  {
   "cell_type": "code",
   "execution_count": 20,
   "metadata": {},
   "outputs": [],
   "source": [
    "# Ensure all labels are the same by making them lower case and stripping trailing whitespace\n",
    "input_data_01[\"topic\"] = input_data_01[\"topic\"].str.lower().str.strip()\n",
    "\n",
    "# Ensure complaint is integer\n",
    "input_data_01[\"complaint\"] = input_data_01[\"complaint\"].astype(int)\n",
    "\n",
    "# Fix missed problem - other\n",
    "input_data_01.loc[input_data_01[\"topic\"] == \"problem - other\", \"topic\"] = \"problem/others\""
   ]
  },
  {
   "cell_type": "code",
   "execution_count": 17,
   "metadata": {},
   "outputs": [
    {
     "data": {
      "text/html": "<div>\n<style scoped>\n    .dataframe tbody tr th:only-of-type {\n        vertical-align: middle;\n    }\n\n    .dataframe tbody tr th {\n        vertical-align: top;\n    }\n\n    .dataframe thead th {\n        text-align: right;\n    }\n</style>\n<table border=\"1\" class=\"dataframe\">\n  <thead>\n    <tr style=\"text-align: right;\">\n      <th></th>\n      <th>Unnamed: 0</th>\n      <th>date</th>\n      <th>content</th>\n      <th>complaint</th>\n      <th>topic</th>\n      <th>content_type</th>\n      <th>user</th>\n      <th>url</th>\n    </tr>\n  </thead>\n  <tbody>\n    <tr>\n      <th>861</th>\n      <td>573</td>\n      <td>2021-07-25 09:22:13</td>\n      <td>Making beautiful banking and helping Australi...</td>\n      <td>0</td>\n      <td>NaN</td>\n      <td>twitter/mention</td>\n      <td>sandybeech4</td>\n      <td>https://twitter.com/sandybeech4/status/1419226...</td>\n    </tr>\n  </tbody>\n</table>\n</div>",
      "text/plain": "     Unnamed: 0                 date  \\\n861         573  2021-07-25 09:22:13   \n\n                                               content  complaint topic  \\\n861   Making beautiful banking and helping Australi...          0   NaN   \n\n        content_type         user  \\\n861  twitter/mention  sandybeech4   \n\n                                                   url  \n861  https://twitter.com/sandybeech4/status/1419226...  "
     },
     "execution_count": 17,
     "metadata": {},
     "output_type": "execute_result"
    }
   ],
   "source": [
    "input_data_01.tail(1)"
   ]
  },
  {
   "cell_type": "code",
   "execution_count": 18,
   "metadata": {},
   "outputs": [],
   "source": [
    "#saving clean data in local directory \n",
    "input_data_01.to_csv(\"../data/mebank_tweets_1_year_clean.csv\", index=False)\n",
    "\n",
    "#saving clean data in s3 bucket \n",
    "#input_data_01.to_csv(f\"{s3_data_dir}/labelled/mebank_tweets_1_year_cleaned.csv\", index=False)"
   ]
  }
 ],
 "metadata": {
  "kernelspec": {
   "display_name": "Python 3.8.8 64-bit ('base': conda)",
   "name": "python388jvsc74a57bd0ff644ce4490e00758abe9147b52402080b94cb6ac107623a27054040ad7b1c9e"
  },
  "language_info": {
   "name": "python",
   "version": ""
  },
  "orig_nbformat": 3
 },
 "nbformat": 4,
 "nbformat_minor": 2
}