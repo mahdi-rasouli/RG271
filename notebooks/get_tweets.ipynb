{
 "cells": [
  {
   "cell_type": "markdown",
   "source": [
    "# Generate Embeddings\n",
    "This notebook demonstrates how to generate embeddings from tweets containing a ME Bank hashtag or mention."
   ],
   "metadata": {}
  },
  {
   "cell_type": "markdown",
   "source": [
    "## Update PYTHHONPATH\n",
    "Until this notebook has a setup.py, insert parent directory onto PYTHONPATH"
   ],
   "metadata": {}
  },
  {
   "cell_type": "code",
   "execution_count": 1,
   "source": [
    "import sys\n",
    "\n",
    "sys.path.append(\"../\")"
   ],
   "outputs": [],
   "metadata": {}
  },
  {
   "cell_type": "markdown",
   "source": [
    "## Scrape Twitter\n",
    "Scrape Twitter for any hashtag or mention for the ME Bank account (#mebank or @mebank). This will create a DataFrame with date, content, content_type, user, and a url for each tweet."
   ],
   "metadata": {}
  },
  {
   "cell_type": "code",
   "execution_count": 2,
   "source": [
    "from RG271.scrapers.twitter import TwitterScraper\n",
    "\n",
    "scraper = TwitterScraper(\"mebank\", min_date=\"2020-07-27\")\n",
    "df = scraper.scrape()"
   ],
   "outputs": [],
   "metadata": {}
  },
  {
   "cell_type": "markdown",
   "source": [
    "Here are some of the tweets"
   ],
   "metadata": {}
  },
  {
   "cell_type": "code",
   "execution_count": 3,
   "source": [
    "df.head(10)"
   ],
   "outputs": [
    {
     "output_type": "execute_result",
     "data": {
      "text/plain": [
       "                       date  \\\n",
       "0 2021-07-25 09:22:13+00:00   \n",
       "1 2021-07-24 01:09:02+00:00   \n",
       "2 2021-07-23 13:21:12+00:00   \n",
       "3 2021-07-22 23:39:22+00:00   \n",
       "4 2021-07-22 10:15:06+00:00   \n",
       "5 2021-07-22 06:58:58+00:00   \n",
       "6 2021-07-22 05:01:02+00:00   \n",
       "7 2021-07-22 04:47:47+00:00   \n",
       "8 2021-07-22 04:26:52+00:00   \n",
       "9 2021-07-22 04:18:03+00:00   \n",
       "\n",
       "                                             content     content_type  \\\n",
       "0  @mebank Making beautiful banking and helping A...  twitter/mention   \n",
       "1  So @mebank made me come all the way to police ...  twitter/mention   \n",
       "2  @mebank So... do you have a timeframe when is ...  twitter/mention   \n",
       "3  @mebank How do you justify taking 3 weeks to g...  twitter/mention   \n",
       "4  Congrats to Ella Van De Velde Fidock, Register...  twitter/mention   \n",
       "5  @mebank hey Andy, I spoke to one already and h...  twitter/mention   \n",
       "6  @EllisonAmy @mebank I switched to @bankaust ab...  twitter/mention   \n",
       "7  @ChrisBinney @mebank The worstttttttttt and wh...  twitter/mention   \n",
       "8           @EllisonAmy @mebank Go with @UBank 2.34%  twitter/mention   \n",
       "9   @EllisonAmy @mebank How bad is that app! So slow  twitter/mention   \n",
       "\n",
       "           user                                                url  \n",
       "0   sandybeech4  https://twitter.com/sandybeech4/status/1419226...  \n",
       "1  TheDadhiwala  https://twitter.com/TheDadhiwala/status/141873...  \n",
       "2   spikeuk1982  https://twitter.com/spikeuk1982/status/1418561...  \n",
       "3   heathwilder  https://twitter.com/heathwilder/status/1418355...  \n",
       "4  qnmuofficial  https://twitter.com/qnmuofficial/status/141815...  \n",
       "5    EllisonAmy  https://twitter.com/EllisonAmy/status/14181032...  \n",
       "6   lukedastoli  https://twitter.com/lukedastoli/status/1418073...  \n",
       "7    EllisonAmy  https://twitter.com/EllisonAmy/status/14180702...  \n",
       "8    rezntoumos  https://twitter.com/rezntoumos/status/14180649...  \n",
       "9   ChrisBinney  https://twitter.com/ChrisBinney/status/1418062...  "
      ],
      "text/html": [
       "<div>\n",
       "<style scoped>\n",
       "    .dataframe tbody tr th:only-of-type {\n",
       "        vertical-align: middle;\n",
       "    }\n",
       "\n",
       "    .dataframe tbody tr th {\n",
       "        vertical-align: top;\n",
       "    }\n",
       "\n",
       "    .dataframe thead th {\n",
       "        text-align: right;\n",
       "    }\n",
       "</style>\n",
       "<table border=\"1\" class=\"dataframe\">\n",
       "  <thead>\n",
       "    <tr style=\"text-align: right;\">\n",
       "      <th></th>\n",
       "      <th>date</th>\n",
       "      <th>content</th>\n",
       "      <th>content_type</th>\n",
       "      <th>user</th>\n",
       "      <th>url</th>\n",
       "    </tr>\n",
       "  </thead>\n",
       "  <tbody>\n",
       "    <tr>\n",
       "      <th>0</th>\n",
       "      <td>2021-07-25 09:22:13+00:00</td>\n",
       "      <td>@mebank Making beautiful banking and helping A...</td>\n",
       "      <td>twitter/mention</td>\n",
       "      <td>sandybeech4</td>\n",
       "      <td>https://twitter.com/sandybeech4/status/1419226...</td>\n",
       "    </tr>\n",
       "    <tr>\n",
       "      <th>1</th>\n",
       "      <td>2021-07-24 01:09:02+00:00</td>\n",
       "      <td>So @mebank made me come all the way to police ...</td>\n",
       "      <td>twitter/mention</td>\n",
       "      <td>TheDadhiwala</td>\n",
       "      <td>https://twitter.com/TheDadhiwala/status/141873...</td>\n",
       "    </tr>\n",
       "    <tr>\n",
       "      <th>2</th>\n",
       "      <td>2021-07-23 13:21:12+00:00</td>\n",
       "      <td>@mebank So... do you have a timeframe when is ...</td>\n",
       "      <td>twitter/mention</td>\n",
       "      <td>spikeuk1982</td>\n",
       "      <td>https://twitter.com/spikeuk1982/status/1418561...</td>\n",
       "    </tr>\n",
       "    <tr>\n",
       "      <th>3</th>\n",
       "      <td>2021-07-22 23:39:22+00:00</td>\n",
       "      <td>@mebank How do you justify taking 3 weeks to g...</td>\n",
       "      <td>twitter/mention</td>\n",
       "      <td>heathwilder</td>\n",
       "      <td>https://twitter.com/heathwilder/status/1418355...</td>\n",
       "    </tr>\n",
       "    <tr>\n",
       "      <th>4</th>\n",
       "      <td>2021-07-22 10:15:06+00:00</td>\n",
       "      <td>Congrats to Ella Van De Velde Fidock, Register...</td>\n",
       "      <td>twitter/mention</td>\n",
       "      <td>qnmuofficial</td>\n",
       "      <td>https://twitter.com/qnmuofficial/status/141815...</td>\n",
       "    </tr>\n",
       "    <tr>\n",
       "      <th>5</th>\n",
       "      <td>2021-07-22 06:58:58+00:00</td>\n",
       "      <td>@mebank hey Andy, I spoke to one already and h...</td>\n",
       "      <td>twitter/mention</td>\n",
       "      <td>EllisonAmy</td>\n",
       "      <td>https://twitter.com/EllisonAmy/status/14181032...</td>\n",
       "    </tr>\n",
       "    <tr>\n",
       "      <th>6</th>\n",
       "      <td>2021-07-22 05:01:02+00:00</td>\n",
       "      <td>@EllisonAmy @mebank I switched to @bankaust ab...</td>\n",
       "      <td>twitter/mention</td>\n",
       "      <td>lukedastoli</td>\n",
       "      <td>https://twitter.com/lukedastoli/status/1418073...</td>\n",
       "    </tr>\n",
       "    <tr>\n",
       "      <th>7</th>\n",
       "      <td>2021-07-22 04:47:47+00:00</td>\n",
       "      <td>@ChrisBinney @mebank The worstttttttttt and wh...</td>\n",
       "      <td>twitter/mention</td>\n",
       "      <td>EllisonAmy</td>\n",
       "      <td>https://twitter.com/EllisonAmy/status/14180702...</td>\n",
       "    </tr>\n",
       "    <tr>\n",
       "      <th>8</th>\n",
       "      <td>2021-07-22 04:26:52+00:00</td>\n",
       "      <td>@EllisonAmy @mebank Go with @UBank 2.34%</td>\n",
       "      <td>twitter/mention</td>\n",
       "      <td>rezntoumos</td>\n",
       "      <td>https://twitter.com/rezntoumos/status/14180649...</td>\n",
       "    </tr>\n",
       "    <tr>\n",
       "      <th>9</th>\n",
       "      <td>2021-07-22 04:18:03+00:00</td>\n",
       "      <td>@EllisonAmy @mebank How bad is that app! So slow</td>\n",
       "      <td>twitter/mention</td>\n",
       "      <td>ChrisBinney</td>\n",
       "      <td>https://twitter.com/ChrisBinney/status/1418062...</td>\n",
       "    </tr>\n",
       "  </tbody>\n",
       "</table>\n",
       "</div>"
      ]
     },
     "metadata": {},
     "execution_count": 3
    }
   ],
   "metadata": {}
  },
  {
   "cell_type": "markdown",
   "source": [
    "## Download and load a pretrained model\n",
    "Use an already trained Sentence Transformer model to embed sentences."
   ],
   "metadata": {}
  },
  {
   "cell_type": "code",
   "execution_count": 4,
   "source": [
    "from sentence_transformers import SentenceTransformer\n",
    "\n",
    "model = SentenceTransformer(\"paraphrase-mpnet-base-v2\")"
   ],
   "outputs": [],
   "metadata": {}
  },
  {
   "cell_type": "markdown",
   "source": [
    "Generate sentence embeddings."
   ],
   "metadata": {}
  },
  {
   "cell_type": "code",
   "execution_count": 5,
   "source": [
    "embeddings = model.encode(df[\"content\"].values.tolist())"
   ],
   "outputs": [],
   "metadata": {}
  }
 ],
 "metadata": {
  "orig_nbformat": 4,
  "language_info": {
   "name": "python",
   "version": "3.8.2",
   "mimetype": "text/x-python",
   "codemirror_mode": {
    "name": "ipython",
    "version": 3
   },
   "pygments_lexer": "ipython3",
   "nbconvert_exporter": "python",
   "file_extension": ".py"
  },
  "kernelspec": {
   "name": "python3",
   "display_name": "Python 3.8.2 64-bit ('venv': venv)"
  },
  "interpreter": {
   "hash": "838513188e0ffbe9fb9071a9ec5fb14ebb929dea2d6744a02b90dd848dd81184"
  }
 },
 "nbformat": 4,
 "nbformat_minor": 2
}