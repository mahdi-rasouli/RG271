{
 "cells": [
  {
   "cell_type": "code",
   "execution_count": 4,
   "source": [
    "import sys\n",
    "\n",
    "sys.path.append(\"../\")"
   ],
   "outputs": [],
   "metadata": {}
  },
  {
   "cell_type": "code",
   "execution_count": 2,
   "source": [
    "import boto3\n",
    "import io\n",
    "import pandas as pd\n",
    "\n",
    "s3 = boto3.client(\"s3\")\n",
    "obj = s3.get_object(Bucket=\"ds-rg271\", Key=\"data/labelled/stratified_random_sampling/test.csv\")\n",
    "df = pd.read_csv(io.BytesIO(obj['Body'].read()))\n",
    "df = df.loc[df[\"complaint\"]]"
   ],
   "outputs": [],
   "metadata": {}
  },
  {
   "cell_type": "code",
   "execution_count": 5,
   "source": [
    "from RG271.binary_cls.inference import InferenceModel\n",
    "from pathlib import Path\n",
    "\n",
    "if not Path(\"model.pkl\").exists():\n",
    "    s3.download_file(\"ds-rg271\", \"models/stratified_random_sampling/model.pkl\", \"model.pkl\")\n",
    "    \n",
    "model = InferenceModel(\"model.pkl\")"
   ],
   "outputs": [],
   "metadata": {}
  },
  {
   "cell_type": "code",
   "execution_count": 8,
   "source": [
    "for row in df.itertuples():\n",
    "    output = model.predict(row.content)\n",
    "    df.at[row.Index, \"prediction\"] = output[\"label_id\"]"
   ],
   "outputs": [],
   "metadata": {}
  },
  {
   "cell_type": "code",
   "execution_count": 10,
   "source": [
    "df[\"prediction\"].astype(int)"
   ],
   "outputs": [
    {
     "output_type": "execute_result",
     "data": {
      "text/plain": [
       "0    0\n",
       "1    1\n",
       "0    0\n",
       "0    0\n",
       "1    1\n",
       "    ..\n",
       "1    1\n",
       "1    1\n",
       "0    0\n",
       "1    1\n",
       "0    0\n",
       "Name: prediction, Length: 173, dtype: int64"
      ]
     },
     "metadata": {},
     "execution_count": 10
    }
   ],
   "metadata": {}
  },
  {
   "cell_type": "code",
   "execution_count": 11,
   "source": [
    "from sklearn.metrics import confusion_matrix\n",
    "\n",
    "def calculate_metrics(y_true, y_pred):\n",
    "    tn, fp, fn, tp = confusion_matrix(y_true, y_pred, labels=[0, 1]).ravel()\n",
    "    precision = tp / (tp + fp)\n",
    "    recall = tp / (tp + fn)\n",
    "\n",
    "    return {\n",
    "        \"tp\": tp,\n",
    "        \"fp\": fp,\n",
    "        \"tn\": tn,\n",
    "        \"fn\": fn,\n",
    "        \"accuracy\": (tn + tp) / (tn + fp + fn + tp),\n",
    "        \"precision\": precision,\n",
    "        \"recall\": recall,\n",
    "        \"f1\": 2 * (precision * recall) / (precision + recall),\n",
    "    }\n",
    "\n",
    "calculate_metrics(df[\"complaint\"], df[\"prediction\"])"
   ],
   "outputs": [
    {
     "output_type": "execute_result",
     "data": {
      "text/plain": [
       "{'tp': 63,\n",
       " 'fp': 0,\n",
       " 'tn': 110,\n",
       " 'fn': 0,\n",
       " 'accuracy': 1.0,\n",
       " 'precision': 1.0,\n",
       " 'recall': 1.0,\n",
       " 'f1': 1.0}"
      ]
     },
     "metadata": {},
     "execution_count": 11
    }
   ],
   "metadata": {}
  }
 ],
 "metadata": {
  "orig_nbformat": 4,
  "language_info": {
   "name": "python",
   "version": "3.8.2",
   "mimetype": "text/x-python",
   "codemirror_mode": {
    "name": "ipython",
    "version": 3
   },
   "pygments_lexer": "ipython3",
   "nbconvert_exporter": "python",
   "file_extension": ".py"
  },
  "kernelspec": {
   "name": "python3",
   "display_name": "Python 3.8.2 64-bit ('venv': venv)"
  },
  "interpreter": {
   "hash": "838513188e0ffbe9fb9071a9ec5fb14ebb929dea2d6744a02b90dd848dd81184"
  }
 },
 "nbformat": 4,
 "nbformat_minor": 2
}