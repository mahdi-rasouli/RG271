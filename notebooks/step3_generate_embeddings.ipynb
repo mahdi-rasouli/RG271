{
 "cells": [
  {
   "cell_type": "markdown",
   "metadata": {},
   "source": [
    "# Clustering Social Media Data - Generating Sentence Embeddings"
   ]
  },
  {
   "cell_type": "code",
   "execution_count": 2,
   "metadata": {},
   "outputs": [],
   "source": [
    "import numpy as np\n",
    "import pandas as pd\n",
    "import pickle\n",
    "from os import path as Path\n",
    "from sentence_transformers import SentenceTransformer\n",
    "import pickle \n",
    "\n"
   ]
  },
  {
   "cell_type": "markdown",
   "metadata": {},
   "source": [
    "# Importing data"
   ]
  },
  {
   "cell_type": "code",
   "execution_count": 5,
   "metadata": {},
   "outputs": [
    {
     "data": {
      "text/html": "<div>\n<style scoped>\n    .dataframe tbody tr th:only-of-type {\n        vertical-align: middle;\n    }\n\n    .dataframe tbody tr th {\n        vertical-align: top;\n    }\n\n    .dataframe thead th {\n        text-align: right;\n    }\n</style>\n<table border=\"1\" class=\"dataframe\">\n  <thead>\n    <tr style=\"text-align: right;\">\n      <th></th>\n      <th>date</th>\n      <th>content</th>\n      <th>content_clean</th>\n      <th>complaint</th>\n      <th>topic</th>\n    </tr>\n  </thead>\n  <tbody>\n    <tr>\n      <th>861</th>\n      <td>2021-07-25 09:22:13</td>\n      <td>Making beautiful banking and helping Australi...</td>\n      <td>making beautiful banking and helping australia...</td>\n      <td>0</td>\n      <td>NaN</td>\n    </tr>\n  </tbody>\n</table>\n</div>",
      "text/plain": "                    date                                            content  \\\n861  2021-07-25 09:22:13   Making beautiful banking and helping Australi...   \n\n                                         content_clean  complaint topic  \n861  making beautiful banking and helping australia...          0   NaN  "
     },
     "execution_count": 5,
     "metadata": {},
     "output_type": "execute_result"
    }
   ],
   "source": [
    "input_data=pd.read_csv(\"../data/mebank_tweets_1_year_preprocessed.csv\")\n",
    "input_data.tail(1)\n"
   ]
  },
  {
   "cell_type": "markdown",
   "metadata": {},
   "source": [
    "# Generating embeddings "
   ]
  },
  {
   "cell_type": "code",
   "execution_count": 117,
   "metadata": {},
   "outputs": [],
   "source": [
    "# use this section if plan to use a saved model\n",
    "#loaded_model = pickle.load(open(filename, 'rb'))"
   ]
  },
  {
   "cell_type": "code",
   "execution_count": 3,
   "metadata": {},
   "outputs": [],
   "source": [
    "model = SentenceTransformer(\"paraphrase-mpnet-base-v2\")"
   ]
  },
  {
   "cell_type": "code",
   "execution_count": 6,
   "metadata": {},
   "outputs": [],
   "source": [
    "embeddings = model.encode(input_data[\"content_clean\"].values)"
   ]
  },
  {
   "cell_type": "code",
   "execution_count": 8,
   "metadata": {},
   "outputs": [
    {
     "data": {
      "text/html": "<div>\n<style scoped>\n    .dataframe tbody tr th:only-of-type {\n        vertical-align: middle;\n    }\n\n    .dataframe tbody tr th {\n        vertical-align: top;\n    }\n\n    .dataframe thead th {\n        text-align: right;\n    }\n</style>\n<table border=\"1\" class=\"dataframe\">\n  <thead>\n    <tr style=\"text-align: right;\">\n      <th></th>\n      <th>date</th>\n      <th>content</th>\n      <th>content_clean</th>\n      <th>complaint</th>\n      <th>topic</th>\n      <th>embedding</th>\n    </tr>\n  </thead>\n  <tbody>\n    <tr>\n      <th>115</th>\n      <td>2020-09-02 00:26:38</td>\n      <td>@au_shareplicity @UBank @ING_Aust @BankofMelb ...</td>\n      <td>it is, but often different rates on offer</td>\n      <td>0</td>\n      <td>NaN</td>\n      <td>[0.0076969666, -0.0014245313, -0.076560736, 0....</td>\n    </tr>\n    <tr>\n      <th>470</th>\n      <td>2021-02-22 01:13:31</td>\n      <td>@mebank @eatmeetswest Looking forward to the r...</td>\n      <td>looking forward to the rest of this thread. if...</td>\n      <td>1</td>\n      <td>others</td>\n      <td>[-0.07085154, 0.2032488, -0.0030118264, 0.1167...</td>\n    </tr>\n    <tr>\n      <th>80</th>\n      <td>2020-08-27 01:21:33</td>\n      <td>@mebank The site is not functioning.</td>\n      <td>the site is not functioning.</td>\n      <td>1</td>\n      <td>problem/website</td>\n      <td>[0.009078691, -0.05883252, -0.0012524026, 0.06...</td>\n    </tr>\n  </tbody>\n</table>\n</div>",
      "text/plain": "                    date                                            content  \\\n115  2020-09-02 00:26:38  @au_shareplicity @UBank @ING_Aust @BankofMelb ...   \n470  2021-02-22 01:13:31  @mebank @eatmeetswest Looking forward to the r...   \n80   2020-08-27 01:21:33               @mebank The site is not functioning.   \n\n                                         content_clean  complaint  \\\n115          it is, but often different rates on offer          0   \n470  looking forward to the rest of this thread. if...          1   \n80                        the site is not functioning.          1   \n\n               topic                                          embedding  \n115              NaN  [0.0076969666, -0.0014245313, -0.076560736, 0....  \n470           others  [-0.07085154, 0.2032488, -0.0030118264, 0.1167...  \n80   problem/website  [0.009078691, -0.05883252, -0.0012524026, 0.06...  "
     },
     "execution_count": 8,
     "metadata": {},
     "output_type": "execute_result"
    }
   ],
   "source": [
    "input_data['embedding']=list(embeddings)\n",
    "input_data.sample(3)"
   ]
  },
  {
   "cell_type": "markdown",
   "metadata": {},
   "source": [
    "# Saving data and model"
   ]
  },
  {
   "cell_type": "code",
   "execution_count": 9,
   "metadata": {},
   "outputs": [],
   "source": [
    "# saving data into local location\n",
    "input_data.to_csv(\"../data/mebank_tweets_1_year_embeddings.csv\", index=False)\n",
    "\n",
    "#saving the data into s3 bucket\n",
    "#input_data_clean.to_csv(f\"{s3_data_dir}/preprocessed/mebank_tweets_1_year_embeddings.csv\", index=False)"
   ]
  },
  {
   "cell_type": "code",
   "execution_count": 10,
   "metadata": {},
   "outputs": [],
   "source": [
    "# saving the model locally\n",
    "pickle.dump(model, open(f\"../models/unsupervised/sent_transformer.sav\", 'wb'))\n",
    "\n",
    "#saving the model in s3 bucket\n",
    "#pickle.dump(model, open(f\"{s3_model_dir}/unsupervised/sent_transformer.sav\", 'wb'))"
   ]
  }
 ],
 "metadata": {
  "kernelspec": {
   "display_name": "Python 3.8.8 64-bit ('base': conda)",
   "name": "python388jvsc74a57bd0ff644ce4490e00758abe9147b52402080b94cb6ac107623a27054040ad7b1c9e"
  },
  "language_info": {
   "codemirror_mode": {
    "name": "ipython",
    "version": 3
   },
   "file_extension": ".py",
   "mimetype": "text/x-python",
   "name": "python",
   "nbconvert_exporter": "python",
   "pygments_lexer": "ipython3",
   "version": "3.8.8"
  },
  "orig_nbformat": 3
 },
 "nbformat": 4,
 "nbformat_minor": 2
}