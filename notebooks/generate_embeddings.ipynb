{
 "cells": [
  {
   "cell_type": "markdown",
   "source": [
    "# Generate Embeddings\n",
    "This notebook loads data from S3, generates embeddings, then uploads them to S3."
   ],
   "metadata": {}
  },
  {
   "cell_type": "markdown",
   "source": [
    "## Update PYTHONPATH\n",
    "Until this notebook has a setup.py, insert parent directory onto PYTHONPATH"
   ],
   "metadata": {}
  },
  {
   "cell_type": "code",
   "execution_count": 2,
   "source": [
    "import sys\n",
    "\n",
    "sys.path.append(\"../\")"
   ],
   "outputs": [],
   "metadata": {}
  },
  {
   "cell_type": "markdown",
   "source": [
    "## Load labelled data from S3\n",
    "Load previously generated data from an S3 bucket."
   ],
   "metadata": {}
  },
  {
   "cell_type": "code",
   "execution_count": 24,
   "source": [
    "import boto3\n",
    "import io\n",
    "import pandas as pd\n",
    "\n",
    "s3 = boto3.client(\"s3\")\n",
    "obj = s3.get_object(Bucket=\"ds-rg271\", Key=\"data/labelled/mebank_tweets_1_year_labelled.csv\")\n",
    "df = pd.read_csv(io.BytesIO(obj['Body'].read()), index_col=0)"
   ],
   "outputs": [],
   "metadata": {}
  },
  {
   "cell_type": "markdown",
   "source": [
    "## Download and load a pretrained model\n",
    "Use an already trained Sentence Transformer model to embed sentences."
   ],
   "metadata": {}
  },
  {
   "cell_type": "code",
   "execution_count": 26,
   "source": [
    "from sentence_transformers import SentenceTransformer\n",
    "\n",
    "model = SentenceTransformer(\"paraphrase-mpnet-base-v2\")"
   ],
   "outputs": [],
   "metadata": {}
  },
  {
   "cell_type": "code",
   "execution_count": 27,
   "source": [
    "embeddings = model.encode(df[\"content\"].values.tolist())"
   ],
   "outputs": [],
   "metadata": {}
  },
  {
   "cell_type": "markdown",
   "source": [
    "## Save embeddings to S3\n",
    "Save the embeddings to our S3 bucket."
   ],
   "metadata": {}
  },
  {
   "cell_type": "code",
   "execution_count": 30,
   "source": [
    "import pickle\n",
    "\n",
    "arr = io.BytesIO()\n",
    "pickle.dump(embeddings, arr)\n",
    "arr.seek(0)\n",
    "s3.upload_fileobj(arr, \"ds-rg271\", \"data/embeddings/mebank_1_year_tweets_embeddings.pkl\")"
   ],
   "outputs": [],
   "metadata": {}
  }
 ],
 "metadata": {
  "orig_nbformat": 4,
  "language_info": {
   "name": "python",
   "version": "3.8.2",
   "mimetype": "text/x-python",
   "codemirror_mode": {
    "name": "ipython",
    "version": 3
   },
   "pygments_lexer": "ipython3",
   "nbconvert_exporter": "python",
   "file_extension": ".py"
  },
  "kernelspec": {
   "name": "python3",
   "display_name": "Python 3.8.2 64-bit ('venv': venv)"
  },
  "interpreter": {
   "hash": "838513188e0ffbe9fb9071a9ec5fb14ebb929dea2d6744a02b90dd848dd81184"
  }
 },
 "nbformat": 4,
 "nbformat_minor": 2
}